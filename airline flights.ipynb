{
 "cells": [
  {
   "cell_type": "code",
   "execution_count": 118,
   "metadata": {
    "collapsed": true
   },
   "outputs": [],
   "source": [
    "import networkx as nx\n",
    "import pandas as pd\n",
    "import matplotlib.pyplot as plt\n",
    "import time\n",
    "%matplotlib inline "
   ]
  },
  {
   "cell_type": "markdown",
   "metadata": {},
   "source": [
    "## Import Data"
   ]
  },
  {
   "cell_type": "code",
   "execution_count": 2,
   "metadata": {
    "collapsed": true
   },
   "outputs": [],
   "source": [
    "raw_scheme = pd.read_csv('flights.csv')\n",
    "raw_scheme.columns = ['Flight','Origin','Destination','1','2','3','4','5','6','7','STD','STA','AddDay']\n",
    "# raw_scheme.head(3)"
   ]
  },
  {
   "cell_type": "code",
   "execution_count": 3,
   "metadata": {
    "collapsed": true
   },
   "outputs": [],
   "source": [
    "# raw_scheme[(raw_scheme['Destination'] == 'BKK') & (raw_scheme['Origin'] == 'SIN') ]\n",
    "# raw_scheme[(raw_scheme['Destination'] == 'SIN') & (raw_scheme['Origin'] == 'HKG') ]"
   ]
  },
  {
   "cell_type": "code",
   "execution_count": 4,
   "metadata": {
    "collapsed": true
   },
   "outputs": [],
   "source": [
    "expand = pd.melt(raw_scheme,id_vars=['Flight','Origin','Destination','STD','STA','AddDay'],value_vars=['1','2','3','4','5','6','7'])\n",
    "final = expand[expand['value']!='.']"
   ]
  },
  {
   "cell_type": "code",
   "execution_count": 5,
   "metadata": {},
   "outputs": [
    {
     "data": {
      "text/plain": [
       "'DEN'"
      ]
     },
     "execution_count": 5,
     "metadata": {},
     "output_type": "execute_result"
    }
   ],
   "source": [
    "nodes = list(set(final['Origin'].unique().tolist() + final['Destination'].unique().tolist()))\n",
    "nodes[1]"
   ]
  },
  {
   "cell_type": "code",
   "execution_count": 121,
   "metadata": {
    "collapsed": true
   },
   "outputs": [],
   "source": [
    "# final[(final['Destination'] == 'HKG') & (final['Origin'] == 'SIN') ]"
   ]
  },
  {
   "cell_type": "markdown",
   "metadata": {},
   "source": [
    "## MultiDiGraph Experiment"
   ]
  },
  {
   "cell_type": "code",
   "execution_count": 25,
   "metadata": {
    "collapsed": true
   },
   "outputs": [],
   "source": [
    "G = nx.MultiDiGraph()\n",
    "# G.add_nodes_from(range(100,110))\n",
    "G.add_edge(1,2,key='SIN',flight='SQ1')\n",
    "G.add_edge(1,2,key=2,flight='SQ2')\n",
    "G.add_edge(3,4,key=3,flight='SQ3')\n",
    "G.add_edge(3,4,flight='SQ4')\n",
    "G.add_edge(3,4,key=3,flight='SQ5')"
   ]
  },
  {
   "cell_type": "code",
   "execution_count": 26,
   "metadata": {},
   "outputs": [
    {
     "data": {
      "text/plain": [
       "[(3, 4, 1, {'flight': 'SQ4'}), (3, 4, 3, {'flight': 'SQ5'})]"
      ]
     },
     "execution_count": 26,
     "metadata": {},
     "output_type": "execute_result"
    }
   ],
   "source": [
    "G.out_edges(3,keys=True,data=True)"
   ]
  },
  {
   "cell_type": "code",
   "execution_count": 9,
   "metadata": {},
   "outputs": [
    {
     "data": {
      "image/png": "[encoded data removed]",
      "text/plain": [
       "<matplotlib.figure.Figure at 0x29974253c50>"
      ]
     },
     "metadata": {},
     "output_type": "display_data"
    }
   ],
   "source": [
    "nx.draw_networkx(G)"
   ]
  },
  {
   "cell_type": "markdown",
   "metadata": {},
   "source": [
    "## Using Digraph to get shortest path"
   ]
  },
  {
   "cell_type": "code",
   "execution_count": 71,
   "metadata": {
    "collapsed": true
   },
   "outputs": [],
   "source": [
    "# G = nx.MultiDiGraph()\n",
    "G = nx.DiGraph()\n",
    "G.add_nodes_from(nodes)\n",
    "# G.add_node('SIN')\n",
    "# G.add_node('BKK')\n",
    "\n",
    "for key,row in final.iterrows():\n",
    "    G.add_edge(row['Origin'],row['Destination'],dow=row['value'],flight=row['Flight'],STD=row['STD'],STA=row['STA'])\n",
    "# G.add_nodes_from(range(100,110))\n",
    "# H=nx.Graph()\n",
    "# H.add_path([0,1,2,3,4,5,6,7,8,9])\n",
    "# G.add_nodes_from(H)\n",
    "# G.add_node(H)\n",
    "# G.add_edges_from([(11,21),(11,31)])\n",
    "# G.add_edges_from([(4,5,dict(route=282)), (4,5,dict(route=37))])\n",
    "# G.add_edges_from([(14,15,route=282), (14,15,route=37)])\n",
    "\n",
    "# G[4]\n",
    "\n",
    "# nx.draw_networkx(G)"
   ]
  },
  {
   "cell_type": "code",
   "execution_count": 72,
   "metadata": {},
   "outputs": [
    {
     "name": "stdout",
     "output_type": "stream",
     "text": [
      "1\n",
      "['SIN', 'HKG']\n"
     ]
    }
   ],
   "source": [
    "print(nx.shortest_path_length(G,source='SIN',target='HKG'))\n",
    "# nx.shortest_path(G,source='SIN',target='HKG')\n",
    "eg = nx.all_shortest_paths(G,source='SIN',target='HKG')\n",
    "for e in eg:\n",
    "    print(e)"
   ]
  },
  {
   "cell_type": "code",
   "execution_count": 45,
   "metadata": {
    "collapsed": true
   },
   "outputs": [],
   "source": [
    "eg = nx.all_pairs_shortest_path(G)\n",
    "# eg['SIN']"
   ]
  },
  {
   "cell_type": "markdown",
   "metadata": {},
   "source": [
    "## MultiDiGraph"
   ]
  },
  {
   "cell_type": "code",
   "execution_count": 73,
   "metadata": {
    "collapsed": true
   },
   "outputs": [],
   "source": [
    "G = nx.MultiDiGraph()\n",
    "G.add_nodes_from(nodes)\n",
    "\n",
    "for key,row in final.iterrows():\n",
    "    G.add_edge(row['Origin'],row['Destination'],dow=row['value'],flight=row['Flight'],STD=row['STD'],STA=row['STA'])\n",
    "\n",
    "# nx.draw_networkx(G)"
   ]
  },
  {
   "cell_type": "code",
   "execution_count": 120,
   "metadata": {
    "collapsed": true
   },
   "outputs": [],
   "source": [
    "eg = nx.all_shortest_paths(G,source='SIN',target='HKG',weight='AddDay')\n",
    "# for e in eg:\n",
    "#     print(e)"
   ]
  },
  {
   "cell_type": "code",
   "execution_count": 113,
   "metadata": {},
   "outputs": [
    {
     "data": {
      "text/plain": [
       "6.0"
      ]
     },
     "execution_count": 113,
     "metadata": {},
     "output_type": "execute_result"
    }
   ],
   "source": [
    "\n",
    "format = '%H:%M'\n",
    "time2 = \"2017 14:00\"\n",
    "time1 = \"2017 08:00\"\n",
    "# time.mktime(time.strptime(time1, format))\n",
    "\n",
    "tc2a = time.strptime(time2,\"%Y %H:%M\")\n",
    "tc1a = time.strptime(time1,\"%Y %H:%M\")\n",
    "\n",
    "diff_hours = (time.mktime(tc2a) - time.mktime(tc1a))/3600\n",
    "diff_hours"
   ]
  },
  {
   "cell_type": "code",
   "execution_count": 161,
   "metadata": {},
   "outputs": [
    {
     "name": "stdout",
     "output_type": "stream",
     "text": [
      "---\n"
     ]
    }
   ],
   "source": [
    "startdow = 1\n",
    "tformat = \"%Y %H:%M\"\n",
    "startstd = time.mktime(time.strptime('2017 14:00',tformat))\n",
    "orig = 'SIN'\n",
    "dest = 'HKG'\n",
    "path = ['SIN','HKG']\n",
    "\n",
    "matrix = G.get_edge_data('SIN','HKG')\n",
    "smatrix = sorted(matrix.items(), key=lambda v: (v[1]['dow'],v[1]['STD']),reverse=False)\n",
    "#v[0] is key, v[1] is item\n",
    "\n",
    "for s,row in  smatrix:\n",
    "    if int(row['dow']) == startdow:\n",
    "        sta = time.mktime(time.strptime('2017 '+ row['STA'],tformat))\n",
    "        std = time.mktime(time.strptime('2017 '+ row['STD'],tformat))\n",
    "#         print(row)\n",
    "        if std > startstd:\n",
    "            print('---')\n",
    "            break\n",
    "#             print(row)\n",
    "        \n",
    "#     print(row['dow'])\n",
    "\n"
   ]
  },
  {
   "cell_type": "code",
   "execution_count": 57,
   "metadata": {
    "collapsed": true
   },
   "outputs": [],
   "source": [
    "# G.degree('BKK')\n",
    "# for (u,v) in G.in_edges_iter('SIN'):\n",
    "#     print(G.get_edge_data(u,v))\n",
    "#     print('-----')"
   ]
  },
  {
   "cell_type": "code",
   "execution_count": 134,
   "metadata": {
    "collapsed": true
   },
   "outputs": [],
   "source": [
    "nx.write_gexf(G,\"test.gexf\")"
   ]
  },
  {
   "cell_type": "markdown",
   "metadata": {},
   "source": [
    "## Digraph Experiments"
   ]
  },
  {
   "cell_type": "code",
   "execution_count": 27,
   "metadata": {
    "collapsed": true
   },
   "outputs": [],
   "source": [
    "g = nx.DiGraph()\n",
    "g.add_node(17)\n",
    "g.add_edge(23,48,dow=1)\n",
    "g.node[17]['ICAO'] = 'SIN'\n",
    "g.add_edge(77,88,label='hello')"
   ]
  },
  {
   "cell_type": "code",
   "execution_count": 6,
   "metadata": {},
   "outputs": [
    {
     "data": {
      "text/plain": [
       "{'ICAO': 'SIN'}"
      ]
     },
     "execution_count": 6,
     "metadata": {},
     "output_type": "execute_result"
    }
   ],
   "source": [
    "g.node[17]"
   ]
  },
  {
   "cell_type": "code",
   "execution_count": 11,
   "metadata": {},
   "outputs": [
    {
     "data": {
      "text/plain": [
       "[(23, 48, {'dow': 1})]"
      ]
     },
     "execution_count": 11,
     "metadata": {},
     "output_type": "execute_result"
    }
   ],
   "source": [
    "g.edges(data=True)"
   ]
  },
  {
   "cell_type": "code",
   "execution_count": 12,
   "metadata": {},
   "outputs": [
    {
     "data": {
      "text/plain": [
       "{'dow': 1}"
      ]
     },
     "execution_count": 12,
     "metadata": {},
     "output_type": "execute_result"
    }
   ],
   "source": [
    "g[23][48]"
   ]
  },
  {
   "cell_type": "code",
   "execution_count": 21,
   "metadata": {},
   "outputs": [
    {
     "data": {
      "text/plain": [
       "{'AddDay': '0', 'DOW': 1, 'Flight': '3S110', 'STA': '7:15', 'STD': '11:45'}"
      ]
     },
     "execution_count": 21,
     "metadata": {},
     "output_type": "execute_result"
    }
   ],
   "source": [
    "g[11][14]['detail'][0]"
   ]
  },
  {
   "cell_type": "code",
   "execution_count": 7,
   "metadata": {},
   "outputs": [
    {
     "data": {
      "text/plain": [
       "True"
      ]
     },
     "execution_count": 7,
     "metadata": {},
     "output_type": "execute_result"
    }
   ],
   "source": [
    "17 in g.nodes()"
   ]
  },
  {
   "cell_type": "code",
   "execution_count": 28,
   "metadata": {
    "collapsed": true
   },
   "outputs": [],
   "source": [
    "# nx.draw_random(g)\n",
    "# pos=nx.draw_circular(g)\n",
    "# nx.draw_networkx_labels(g,pos)\n",
    "nx.write_gexf(g,\"test.gexf\")"
   ]
  },
  {
   "cell_type": "code",
   "execution_count": 23,
   "metadata": {},
   "outputs": [
    {
     "data": {
      "image/png": "[encoded data removed]",
      "text/plain": [
       "<matplotlib.figure.Figure at 0x252ce21fb00>"
      ]
     },
     "metadata": {},
     "output_type": "display_data"
    }
   ],
   "source": [
    "nx.draw_networkx(g)"
   ]
  },
  {
   "cell_type": "markdown",
   "metadata": {},
   "source": [
    "## Open Flights"
   ]
  },
  {
   "cell_type": "code",
   "execution_count": 27,
   "metadata": {
    "collapsed": true
   },
   "outputs": [],
   "source": [
    "route = pd.read_csv('routes.dat',header=0)\n",
    "airport = pd.read_csv('airports.dat')\n",
    "airline = pd.read_csv('airlines.dat')"
   ]
  },
  {
   "cell_type": "code",
   "execution_count": 30,
   "metadata": {
    "collapsed": true
   },
   "outputs": [],
   "source": [
    "airline_fieldnames = ['id','name','alias','iata','icao','callsign','country','active']\n",
    "airport_fieldnames = ['id','name','city','country','iata_faa','icao','latitude','longitude'\n",
    "                      ,'altitude','timezone','dst', 'tz_timezone']\n",
    "route_fieldnames = ['airline','airline_id','source_airport','source_airport_id','destination_airport','destination_airport_id',\n",
    "                     'codeshare','stops','equipment']"
   ]
  },
  {
   "cell_type": "code",
   "execution_count": null,
   "metadata": {
    "collapsed": true
   },
   "outputs": [],
   "source": []
  }
 ],
 "metadata": {
  "anaconda-cloud": {},
  "kernelspec": {
   "display_name": "Python [conda root]",
   "language": "python",
   "name": "conda-root-py"
  },
  "language_info": {
   "codemirror_mode": {
    "name": "ipython",
    "version": 3
   },
   "file_extension": ".py",
   "mimetype": "text/x-python",
   "name": "python",
   "nbconvert_exporter": "python",
   "pygments_lexer": "ipython3",
   "version": "3.5.2"
  }
 },
 "nbformat": 4,
 "nbformat_minor": 1
}
