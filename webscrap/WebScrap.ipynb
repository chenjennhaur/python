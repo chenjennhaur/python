{
 "cells": [
  {
   "cell_type": "code",
   "execution_count": 141,
   "metadata": {
    "collapsed": true
   },
   "outputs": [],
   "source": [
    "from urllib.request import urlopen\n",
    "from bs4 import BeautifulSoup\n",
    "import time\n",
    "from random import randint\n",
    "#Websites\n",
    "#https://www.sgpbusiness.com\n",
    "\n",
    "#Read up <site>/robots.txt"
   ]
  },
  {
   "cell_type": "code",
   "execution_count": 142,
   "metadata": {
    "collapsed": false
   },
   "outputs": [],
   "source": [
    "search_url = \"http://www.yelu.sg/category/postal-services/\"\n",
    "base_url = \"http://www.yelu.sg\"\n",
    "\n",
    "html = urlopen(search_url)\n",
    "bsObj = BeautifulSoup(html.read(),\"lxml\")"
   ]
  },
  {
   "cell_type": "code",
   "execution_count": 143,
   "metadata": {
    "collapsed": false
   },
   "outputs": [
    {
     "name": "stdout",
     "output_type": "stream",
     "text": [
      "9\n"
     ]
    }
   ],
   "source": [
    "page = bsObj.findAll(\"a\",{\"class\":\"page_no\"})\n",
    "\n",
    "max = 0 \n",
    "for i in page:\n",
    "    page_no = int(i.get_text())\n",
    "    if (page_no > max):\n",
    "        max = page_no\n",
    "print(max)\n",
    "# page.findAll(\"div\")"
   ]
  },
  {
   "cell_type": "code",
   "execution_count": null,
   "metadata": {
    "collapsed": false
   },
   "outputs": [
    {
     "name": "stdout",
     "output_type": "stream",
     "text": [
      "http://www.yelu.sg/category/postal-services/1\n",
      "http://www.yelu.sg/category/postal-services/2\n",
      "http://www.yelu.sg/category/postal-services/3\n",
      "http://www.yelu.sg/category/postal-services/4\n",
      "http://www.yelu.sg/category/postal-services/5"
     ]
    }
   ],
   "source": [
    "f1 = open('scrap.txt','w')\n",
    "for x in range(1,max+1):\n",
    "    pg_search = search_url+str(x)\n",
    "    print(search_url+str(x))\n",
    "    #Loop through the pages\n",
    "    pg_url = urlopen(pg_search)\n",
    "    pgObj = BeautifulSoup(pg_url.read(),\"lxml\")\n",
    "    time.sleep(5)\n",
    "    pages = pgObj.findAll(\"h4\")\n",
    "    #Loop through the link in each page\n",
    "    for i in pages:\n",
    "        ref = i.a.get(\"href\")\n",
    "        ran_sleep = randint(10,12)\n",
    "        time.sleep(ran_sleep)\n",
    "        coy = urlopen(base_url+ref)\n",
    "        coyObj = BeautifulSoup(coy.read(),\"lxml\")\n",
    "        for s in scrapitem:\n",
    "          try:\n",
    "            if len(s.find_all('div')) == 0 :\n",
    "              header = s.find('span').get_text()\n",
    "              description = s.get_text()[len(header):]\n",
    "            else: \n",
    "              header = s.find_all('div')[0].get_text()  \n",
    "              if s.find('span') == None :\n",
    "                description = s.find_all('div')[1].get_text()\n",
    "              else : \n",
    "                description = s.find('span').get_text()    \n",
    "            #f1.write(base_url+ref)\n",
    "            f1.write(header,\":\",description,\"\\n\")\n",
    "            if header == 'E-mail' :\n",
    "                break\n",
    "          except AttributeError as e:\n",
    "            continue\n",
    "          except Exception as ea:\n",
    "            continue\n",
    "f1.close()"
   ]
  },
  {
   "cell_type": "code",
   "execution_count": 88,
   "metadata": {
    "collapsed": false
   },
   "outputs": [
    {
     "name": "stdout",
     "output_type": "stream",
     "text": [
      "No Span\n"
     ]
    }
   ],
   "source": [
    "# t.find_all('div')[0].get_text()\n",
    "# t.find_all('div')[1].get_text()\n",
    "x = t.find('span')\n",
    "if (x == None):\n",
    "  print(\"No Span\")\n",
    "else :\n",
    "  print(\"Yes\")\n",
    "# t.div.find_next_siblings()"
   ]
  },
  {
   "cell_type": "code",
   "execution_count": 98,
   "metadata": {
    "collapsed": true
   },
   "outputs": [],
   "source": [
    "pg_url = urlopen(\"http://www.yelu.sg/category/postal-services/9\")"
   ]
  },
  {
   "cell_type": "code",
   "execution_count": 101,
   "metadata": {
    "collapsed": false
   },
   "outputs": [
    {
     "data": {
      "text/plain": [
       "[]"
      ]
     },
     "execution_count": 101,
     "metadata": {},
     "output_type": "execute_result"
    }
   ],
   "source": [
    "pgObj = BeautifulSoup(pg_url.read(),\"lxml\")\n",
    "pages = pgObj.findAll(\"h4\")\n",
    "pages"
   ]
  },
  {
   "cell_type": "code",
   "execution_count": 6,
   "metadata": {
    "collapsed": true
   },
   "outputs": [],
   "source": [
    "def getTitle(url):\n",
    "    try:\n",
    "        html = urlopen(url)\n",
    "    except HTTPError as e:\n",
    "        return None\n",
    "    try:\n",
    "        bsObj = BeautifulSoup(html.read())\n",
    "        title = bsObj.body.h1\n",
    "    except AttributeError as e:\n",
    "        return None\n",
    "    return title"
   ]
  },
  {
   "cell_type": "code",
   "execution_count": null,
   "metadata": {
    "collapsed": true
   },
   "outputs": [],
   "source": []
  }
 ],
 "metadata": {
  "kernelspec": {
   "display_name": "Python 3",
   "language": "python",
   "name": "python3"
  },
  "language_info": {
   "codemirror_mode": {
    "name": "ipython",
    "version": 3
   },
   "file_extension": ".py",
   "mimetype": "text/x-python",
   "name": "python",
   "nbconvert_exporter": "python",
   "pygments_lexer": "ipython3",
   "version": "3.5.1"
  }
 },
 "nbformat": 4,
 "nbformat_minor": 0
}
